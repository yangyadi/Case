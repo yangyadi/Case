{
  "nbformat": 4,
  "nbformat_minor": 0,
  "metadata": {
    "colab": {
      "provenance": [],
      "authorship_tag": "ABX9TyO8khgkEMztFEHnF9mB7tlI",
      "include_colab_link": true
    },
    "kernelspec": {
      "name": "python3",
      "display_name": "Python 3"
    },
    "language_info": {
      "name": "python"
    }
  },
  "cells": [
    {
      "cell_type": "markdown",
      "metadata": {
        "id": "view-in-github",
        "colab_type": "text"
      },
      "source": [
        "<a href=\"https://colab.research.google.com/github/yangyadi/Case/blob/main/DataScience_Classification.ipynb\" target=\"_parent\"><img src=\"https://colab.research.google.com/assets/colab-badge.svg\" alt=\"Open In Colab\"/></a>"
      ]
    },
    {
      "cell_type": "markdown",
      "source": [
        "Objective: Classification"
      ],
      "metadata": {
        "id": "slmPdRcZ3Pi0"
      }
    },
    {
      "cell_type": "markdown",
      "source": [
        "0. Import Libraries"
      ],
      "metadata": {
        "id": "m_SlWgFq3VXk"
      }
    },
    {
      "cell_type": "code",
      "source": [
        "# Import\n",
        "import pandas as pd\n",
        "import numpy as np\n",
        "\n",
        "from sklearn.model_selection import train_test_split, StratifiedKFold, cross_validate\n",
        "from sklearn.ensemble import RandomForestClassifier\n",
        "from sklearn.linear_model import LogisticRegression\n",
        "from sklearn.metrics import classification_report, confusion_matrix\n",
        "from sklearn.pipeline import Pipeline\n",
        "from sklearn.preprocessing import StandardScaler\n",
        "from xgboost import XGBClassifier  # optional\n",
        "\n",
        "print(\"Setup complete.\")"
      ],
      "metadata": {
        "id": "cwhV6NN54KKR"
      },
      "execution_count": null,
      "outputs": []
    },
    {
      "cell_type": "markdown",
      "source": [
        "1. Load and explore data"
      ],
      "metadata": {
        "id": "xyXJ52h54UfJ"
      }
    },
    {
      "cell_type": "code",
      "source": [
        "# Load data\n",
        "df = pd.read_csv('dataset.csv')\n",
        "df.head()\n",
        "df.info()\n",
        "df.describe()\n"
      ],
      "metadata": {
        "id": "LHefnIV74MVF"
      },
      "execution_count": null,
      "outputs": []
    },
    {
      "cell_type": "markdown",
      "source": [
        "2. Data preprocessing"
      ],
      "metadata": {
        "id": "lt6FipFy4plU"
      }
    },
    {
      "cell_type": "code",
      "source": [
        "# Drop missing value\n",
        "df = df.dropna()\n",
        "df['target'] = df['your_target_column'].apply(lambda x: 1 if x > 15 else 0)\n",
        "\n",
        "# Feature Engineering\n",
        "df['hour'] = pd.to_datetime(df['scheduled_departure']).dt.hour\n",
        "features = ['hour', 'distance', 'airline', 'origin', 'destination']\n",
        "\n",
        "# Defining features and target\n",
        "\n",
        "X = df[features]\n",
        "y = df['target']\n",
        "# or\n",
        "X = df[['departure_hour', 'airline', 'origin', 'destination', 'distance']]\n",
        "y = df['delayed'].apply(lambda x: 1 if x > 15 else 0)  # Delayed if >15 min\n",
        "\n",
        "# Encoding for categorical variables\n",
        "X_encoded = pd.get_dummies(X, drop_first=True)"
      ],
      "metadata": {
        "id": "SxjHdEjb4MlF"
      },
      "execution_count": null,
      "outputs": []
    },
    {
      "cell_type": "markdown",
      "source": [
        "3. Train-Test split or Cross Validation"
      ],
      "metadata": {
        "id": "qY1BAimC5JoG"
      }
    },
    {
      "cell_type": "code",
      "source": [
        "# Splitting data\n",
        "X_train, X_test, y_train, y_test = train_test_split(X_encoded, y, test_size=0.2, random_state = 5)"
      ],
      "metadata": {
        "id": "x4gYZtu96NQl"
      },
      "execution_count": null,
      "outputs": []
    },
    {
      "cell_type": "markdown",
      "source": [
        "4. Pipeline + Model"
      ],
      "metadata": {
        "id": "oLZ7F-CF6E_x"
      }
    },
    {
      "cell_type": "code",
      "source": [
        "\n",
        "pipeline = Pipeline([\n",
        "    ('scaler', StandardScaler()),  # optional for tree models\n",
        "    ('clf', RandomForestClassifier(random_state = 6))\n",
        "    # Or try XGBoost: replace with ('clf', XGBClassifier(use_label_encoder=False, eval_metric='logloss'))\n",
        "])"
      ],
      "metadata": {
        "id": "MELkAKf_4MxL"
      },
      "execution_count": null,
      "outputs": []
    },
    {
      "cell_type": "markdown",
      "source": [
        "5. Cross validation"
      ],
      "metadata": {
        "id": "deoJpx5d5lKe"
      }
    },
    {
      "cell_type": "code",
      "source": [
        "\n",
        "cv = StratifiedKFold(n_splits=5, shuffle=True, random_state=42)\n",
        "\n",
        "scores = cross_validate(pipeline, X_encoded, y, cv=cv,\n",
        "                        scoring=['accuracy', 'precision', 'recall', 'f1', 'roc_auc'])"
      ],
      "metadata": {
        "id": "QE5iLbTH4M9l"
      },
      "execution_count": null,
      "outputs": []
    },
    {
      "cell_type": "markdown",
      "source": [
        "6. Model evaluation"
      ],
      "metadata": {
        "id": "XWwqDO8Y5zzp"
      }
    },
    {
      "cell_type": "code",
      "execution_count": null,
      "metadata": {
        "id": "8yiMmag83IZY"
      },
      "outputs": [],
      "source": [
        "\n",
        "print(\"Accuracy:\", scores['test_accuracy'].mean())\n",
        "print(\"Precision:\", scores['test_precision'].mean())\n",
        "print(\"Recall:\", scores['test_recall'].mean())\n",
        "print(\"F1 Score:\", scores['test_f1'].mean())\n",
        "print(\"ROC AUC:\", scores['test_roc_auc'].mean())\n",
        "\n",
        "\n"
      ]
    },
    {
      "cell_type": "markdown",
      "source": [
        "7. Fit final model for feature importance"
      ],
      "metadata": {
        "id": "SNqJd9l956y0"
      }
    },
    {
      "cell_type": "code",
      "source": [
        "pipeline.fit(X_encoded, y)\n",
        "model = pipeline.named_steps['clf']\n",
        "if hasattr(model, 'feature_importances_'):\n",
        "    importances = pd.Series(model.feature_importances_, index=X_encoded.columns)\n",
        "    print(importances.sort_values(ascending=False).head(10))\n"
      ],
      "metadata": {
        "id": "O2LrQTmm55aI"
      },
      "execution_count": null,
      "outputs": []
    }
  ]
}