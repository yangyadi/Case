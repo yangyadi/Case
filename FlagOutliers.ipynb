{
  "nbformat": 4,
  "nbformat_minor": 0,
  "metadata": {
    "colab": {
      "provenance": [],
      "authorship_tag": "ABX9TyNwNTNmF/yDjSJnVgAq26Px",
      "include_colab_link": true
    },
    "kernelspec": {
      "name": "python3",
      "display_name": "Python 3"
    },
    "language_info": {
      "name": "python"
    }
  },
  "cells": [
    {
      "cell_type": "markdown",
      "metadata": {
        "id": "view-in-github",
        "colab_type": "text"
      },
      "source": [
        "<a href=\"https://colab.research.google.com/github/yangyadi/Case/blob/main/FlagOutliers.ipynb\" target=\"_parent\"><img src=\"https://colab.research.google.com/assets/colab-badge.svg\" alt=\"Open In Colab\"/></a>"
      ]
    },
    {
      "cell_type": "markdown",
      "source": [
        "1. Define Flag function"
      ],
      "metadata": {
        "id": "tuRB98KZ8dz8"
      }
    },
    {
      "cell_type": "code",
      "execution_count": null,
      "metadata": {
        "id": "A9-K71s28ZL5"
      },
      "outputs": [],
      "source": [
        "def flag_outliers_iqr(df, columns=None, threshold=1.5):\n",
        "    \"\"\"\n",
        "    Flags outliers in specified numeric columns using the IQR method.\n",
        "    Returns a dictionary with column names and row indices of outliers.\n",
        "\n",
        "    Parameters:\n",
        "        df (DataFrame): Data\n",
        "        columns (list): List of column names to check. If None, checks all numeric columns.\n",
        "        threshold (float): IQR multiplier, default 1.5\n",
        "    \"\"\"\n",
        "    if columns is None:\n",
        "        columns = df.select_dtypes(include=[np.number]).columns.tolist()\n",
        "\n",
        "    outlier_dict = {}\n",
        "\n",
        "    for col in columns:\n",
        "        Q1 = df[col].quantile(0.25)\n",
        "        Q3 = df[col].quantile(0.75)\n",
        "        IQR = Q3 - Q1\n",
        "        lower_bound = Q1 - threshold * IQR\n",
        "        upper_bound = Q3 + threshold * IQR\n",
        "\n",
        "        outliers = df[(df[col] < lower_bound) | (df[col] > upper_bound)]\n",
        "\n",
        "        if not outliers.empty:\n",
        "            outlier_dict[col] = outliers.index.tolist()\n",
        "\n",
        "    return outlier_dict\n"
      ]
    },
    {
      "cell_type": "markdown",
      "source": [
        "2. Flag outliers"
      ],
      "metadata": {
        "id": "lcO60JUr8shl"
      }
    },
    {
      "cell_type": "code",
      "source": [
        "outlier_indices = flag_outliers_iqr(df)\n",
        "\n",
        "# Print how many outliers per column\n",
        "for col, idxs in outlier_indices.items():\n",
        "    print(f\"{col}: {len(idxs)} outliers\")\n"
      ],
      "metadata": {
        "id": "1KU05YPu8jyc"
      },
      "execution_count": null,
      "outputs": []
    },
    {
      "cell_type": "markdown",
      "source": [
        "3. Remove outliers"
      ],
      "metadata": {
        "id": "21pb-kQ78oNj"
      }
    },
    {
      "cell_type": "code",
      "source": [
        "# Combine all outlier indices into one set\n",
        "all_outlier_rows = set(i for idxs in outlier_indices.values() for i in idxs)\n",
        "\n",
        "# Drop those rows\n",
        "df_cleaned = df.drop(index=all_outlier_rows)"
      ],
      "metadata": {
        "id": "4UYsnCnF8qgw"
      },
      "execution_count": null,
      "outputs": []
    }
  ]
}